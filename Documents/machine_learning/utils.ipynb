{
 "cells": [
  {
   "cell_type": "code",
   "execution_count": null,
   "metadata": {},
   "outputs": [],
   "source": [
    "import pandas as pd\n",
    "import numpy as np\n",
    "import sklearn\n",
    "import joblib\n",
    "\n",
    "class Utils:\n",
    "    def load_from_csv(self, path):\n",
    "        return pd.read_csv(path)\n",
    "\n",
    "    def load_from_mysql(self):\n",
    "        pass\n",
    "\n",
    "    def features_target(self, dataset, drop_cols, y):\n",
    "        X = dataset.drop(drop_cols, axis=1)\n",
    "        y = dataset[y]\n",
    "        return X,y\n",
    "\n",
    "    def model_export(self, clf, score):\n",
    "        print(score)\n",
    "        joblib.dump(clf, './models/best_model.pkl')"
   ]
  }
 ],
 "metadata": {
  "language_info": {
   "name": "python"
  },
  "orig_nbformat": 4
 },
 "nbformat": 4,
 "nbformat_minor": 2
}
