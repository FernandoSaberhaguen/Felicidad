{
 "cells": [
  {
   "cell_type": "code",
   "execution_count": null,
   "metadata": {},
   "outputs": [],
   "source": [
    "import joblib\n",
    "import numpy as np\n",
    "\n",
    "from flask import Flask\n",
    "from flask import jsonify\n",
    "app= Flask(__name__)\n",
    "\n",
    "\n",
    "#Postman pruebas\n",
    "@app.route('/predict', methods=['GET'])\n",
    "def predict():\n",
    "    X_test= np.array([7.594445,7.479556, 1.616463, 1.533524, 0.796667, 0.635423, 0.362012, 0.315964, 2.277027])\n",
    "    precition= model.predict(X_test.reshape(1,-1))\n",
    "    return jsonify({'prediccion': list(precition)})\n",
    "\n",
    "\n",
    "if __name__ == '__main__':\n",
    "    model= joblib.load('./models/best_model.pkl')\n",
    "    app.run(port=8080)\n"
   ]
  }
 ],
 "metadata": {
  "language_info": {
   "name": "python"
  },
  "orig_nbformat": 4
 },
 "nbformat": 4,
 "nbformat_minor": 2
}
