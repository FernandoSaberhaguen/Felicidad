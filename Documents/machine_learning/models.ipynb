{
 "cells": [
  {
   "cell_type": "code",
   "execution_count": null,
   "metadata": {},
   "outputs": [],
   "source": [
    "import pandas as pd\n",
    "import numpy as np\n",
    "import sklearn\n",
    "from sklearn.svm import SVR\n",
    "from sklearn.ensemble import GradientBoostingRegressor\n",
    "from sklearn.model_selection import GridSearchCV\n",
    "\n",
    "from utils import Utils\n",
    "\n",
    "class Models:\n",
    "\n",
    "    def __init__(self):\n",
    "        self.reg = {\n",
    "            'SVR' : SVR(),\n",
    "            'GRADIENT' : GradientBoostingRegressor()\n",
    "        }\n",
    "\n",
    "        self.params = {\n",
    "           'SVR' : {\n",
    "               'kernel' : ['linear', 'poly', 'rbf'],\n",
    "               'gamma' : ['auto', 'scale'],\n",
    "               'C' : [1,5,10]\n",
    "           }, 'GRADIENT' : {\n",
    "               'loss' : ['squared_error', 'absolute_error'],\n",
    "               'learning_rate' : [0.01, 0.05, 0.1]\n",
    "           }\n",
    "        }\n",
    "\n",
    "    def grid_training(self, X,y):\n",
    "\n",
    "        best_score = 999\n",
    "        best_model = None\n",
    "\n",
    "        for name, reg in self.reg.items():\n",
    "\n",
    "            grid_reg = GridSearchCV(reg, self.params[name], cv=3).fit(X, y.values.ravel())\n",
    "            score = np.abs(grid_reg.best_score_)\n",
    "\n",
    "            if score < best_score:\n",
    "                best_score = score\n",
    "                best_model = grid_reg.best_estimator_\n",
    "        \n",
    "\n",
    "        utils = Utils()\n",
    "        utils.model_export(best_model, best_score)"
   ]
  }
 ],
 "metadata": {
  "language_info": {
   "name": "python"
  },
  "orig_nbformat": 4
 },
 "nbformat": 4,
 "nbformat_minor": 2
}
