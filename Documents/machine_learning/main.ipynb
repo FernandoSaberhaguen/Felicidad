{
 "cells": [
  {
   "cell_type": "code",
   "execution_count": null,
   "metadata": {},
   "outputs": [],
   "source": [
    "import pandas as pd\n",
    "import numpy as np\n",
    "import sklearn\n",
    "\n",
    "from utils import Utils\n",
    "from models import Models\n",
    "\n",
    "if __name__ == \"__main__\":\n",
    "\n",
    "    utils = Utils()\n",
    "    models = Models()\n",
    "\n",
    "    data = utils.load_from_csv('./in/felicidad.csv')\n",
    "    X, y = utils.features_target(data, ['score','rank', 'country'],['score'])\n",
    "\n",
    "    models.grid_training(X,y)\n",
    "\n",
    "    print(data)\n",
    "\n",
    "    #creacion_exportacion_modelo"
   ]
  }
 ],
 "metadata": {
  "language_info": {
   "name": "python"
  },
  "orig_nbformat": 4
 },
 "nbformat": 4,
 "nbformat_minor": 2
}
